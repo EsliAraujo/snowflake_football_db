{
 "cells": [
  {
   "cell_type": "code",
   "execution_count": 15,
   "metadata": {},
   "outputs": [],
   "source": [
    "import os\n",
    "import snowflake.snowpark.functions as F"
   ]
  },
  {
   "cell_type": "code",
   "execution_count": 29,
   "metadata": {},
   "outputs": [
    {
     "name": "stdout",
     "output_type": "stream",
     "text": [
      "####################################################\n",
      "Available packages:\n",
      "    from snowflake.snowpark.session import Session\n",
      "    from snowflake.snowpark import functions as F\n",
      "    from snowflake.snowpark.types import *\n",
      "    from datetime import datetime\n",
      "\n",
      "    import configparser\n",
      "    import os\n",
      "\n",
      "####################################################\n",
      "\n",
      "Available functions, for details use help(<function_name>:\n",
      "    get_snowpark_session\n",
      "    set_schema\n",
      "    read_csv_from_stage\n",
      "    create_hz_dim\n",
      "    get_field_list\n",
      "    get_most_recent_value\n",
      "\n"
     ]
    }
   ],
   "source": [
    "path_utils = os.path.join(os.getcwd(),'Utils','utils.ipynb')\n",
    "%run $path_utils"
   ]
  },
  {
   "cell_type": "code",
   "execution_count": 17,
   "metadata": {},
   "outputs": [],
   "source": [
    "session = get_snowpark_session()\n",
    "set_schema('CZ_CLEAR_STRATEGY')\n",
    "hz_schema = 'hz_clear_strategy'\n",
    "control_fields = ['PATH','LOAD_AT']"
   ]
  },
  {
   "attachments": {},
   "cell_type": "markdown",
   "metadata": {},
   "source": [
    "## DIM_CALENDAR"
   ]
  },
  {
   "cell_type": "code",
   "execution_count": 5,
   "metadata": {},
   "outputs": [],
   "source": [
    "table_name = 'dim_calendar'\n",
    "df_dim_calendar = session.table(f'{hz_schema}.{table_name}')\n",
    "df_dim_calendar.write.mode(\"overwrite\").saveAsTable('dim_calendar')\n"
   ]
  },
  {
   "attachments": {},
   "cell_type": "markdown",
   "metadata": {},
   "source": [
    "## DIM_AREA_OF_SHOT"
   ]
  },
  {
   "cell_type": "code",
   "execution_count": 5,
   "metadata": {},
   "outputs": [],
   "source": [
    "table_name = 'dim_area_of_shot'\n",
    "df_dim_area_of_shot = session.table(f'{hz_schema}.{table_name}')\n",
    "\n",
    "str_field_list = get_field_list(df_dim_area_of_shot, control_fields)\n",
    "\n",
    "df_dim_area_of_shot = get_most_recent_value(zone = hz_schema,\\\n",
    "                           table_name = table_name,\\\n",
    "                           str_group_fields = str_field_list)\n",
    "\n",
    "df_dim_area_of_shot.write.mode(\"overwrite\").saveAsTable(table_name)"
   ]
  },
  {
   "attachments": {},
   "cell_type": "markdown",
   "metadata": {},
   "source": [
    "## DIM_SHOT_BASICS"
   ]
  },
  {
   "cell_type": "code",
   "execution_count": 6,
   "metadata": {},
   "outputs": [],
   "source": [
    "table_name = 'dim_shot_basics'\n",
    "df_dim_shot_basics = session.table(f'{hz_schema}.{table_name}')\n",
    "\n",
    "str_field_list = get_field_list(df_dim_shot_basics, control_fields)\n",
    "\n",
    "df_dim_shot_basics = get_most_recent_value(zone = hz_schema,\\\n",
    "                           table_name = table_name,\\\n",
    "                           str_group_fields = str_field_list)\n",
    "\n",
    "df_dim_shot_basics.write.mode(\"overwrite\").saveAsTable(table_name)"
   ]
  },
  {
   "attachments": {},
   "cell_type": "markdown",
   "metadata": {},
   "source": [
    "## DIM_COMBINED_SHOT_TYPES"
   ]
  },
  {
   "cell_type": "code",
   "execution_count": 7,
   "metadata": {},
   "outputs": [],
   "source": [
    "table_name = 'dim_combined_shot_types'\n",
    "df_dim_combined_shot_types = session.table(f'{hz_schema}.{table_name}')\n",
    "\n",
    "str_field_list = get_field_list(df_dim_combined_shot_types, control_fields)\n",
    "\n",
    "df_dim_combined_shot_types = get_most_recent_value(zone = hz_schema,\\\n",
    "                           table_name = table_name,\\\n",
    "                           str_group_fields = str_field_list)\n",
    "\n",
    "df_dim_combined_shot_types.write.mode(\"overwrite\").saveAsTable(table_name)"
   ]
  },
  {
   "attachments": {},
   "cell_type": "markdown",
   "metadata": {},
   "source": [
    "## DIM_TEAM"
   ]
  },
  {
   "cell_type": "code",
   "execution_count": 31,
   "metadata": {},
   "outputs": [],
   "source": [
    "table_name = 'dim_team'\n",
    "\n",
    "df_dim_team = get_most_recent_value(zone = hz_schema,\\\n",
    "                           table_name = table_name,\\\n",
    "                           str_group_fields = 'TEAM_SHORT_NAME, TEAM_NAME')\n",
    "\n",
    "df_dim_team.write.mode(\"overwrite\").saveAsTable(table_name)"
   ]
  },
  {
   "attachments": {},
   "cell_type": "markdown",
   "metadata": {},
   "source": [
    "## DIM_RANGE_OF_SHOT"
   ]
  },
  {
   "cell_type": "code",
   "execution_count": 9,
   "metadata": {},
   "outputs": [],
   "source": [
    "table_name = 'dim_range_of_shot'\n",
    "df_dim_range_of_shot = session.table(f'{hz_schema}.{table_name}')\n",
    "\n",
    "str_field_list = get_field_list(df_dim_range_of_shot, control_fields)\n",
    "\n",
    "df_dim_range_of_shot = get_most_recent_value(zone = hz_schema,\\\n",
    "                           table_name = table_name,\\\n",
    "                           str_group_fields = str_field_list)\n",
    "\n",
    "df_dim_range_of_shot.write.mode(\"overwrite\").saveAsTable(table_name)"
   ]
  },
  {
   "attachments": {},
   "cell_type": "markdown",
   "metadata": {},
   "source": [
    "## DIM_SHOT_TYPES"
   ]
  },
  {
   "cell_type": "code",
   "execution_count": 10,
   "metadata": {},
   "outputs": [],
   "source": [
    "table_name = 'dim_shot_types'\n",
    "df_dim_shot_types = session.table(f'{hz_schema}.{table_name}')\n",
    "\n",
    "str_field_list = get_field_list(df_dim_shot_types, control_fields)\n",
    "\n",
    "df_dim_shot_types = get_most_recent_value(zone = hz_schema,\\\n",
    "                           table_name = table_name,\\\n",
    "                           str_group_fields = str_field_list)\n",
    "\n",
    "df_dim_shot_types.write.mode(\"overwrite\").saveAsTable(table_name)"
   ]
  },
  {
   "attachments": {},
   "cell_type": "markdown",
   "metadata": {},
   "source": [
    "## DIM_STADIUM"
   ]
  },
  {
   "cell_type": "code",
   "execution_count": 11,
   "metadata": {},
   "outputs": [],
   "source": [
    "table_name = 'dim_stadium'\n",
    "df_dim_stadium = session.table(f'{hz_schema}.{table_name}')\n",
    "\n",
    "str_field_list = get_field_list(df_dim_stadium, control_fields)\n",
    "\n",
    "df_dim_stadium = get_most_recent_value(zone = hz_schema,\\\n",
    "                           table_name = table_name,\\\n",
    "                           str_group_fields = str_field_list)\n",
    "\n",
    "df_dim_stadium.write.mode(\"overwrite\").saveAsTable(table_name)"
   ]
  },
  {
   "attachments": {},
   "cell_type": "markdown",
   "metadata": {},
   "source": [
    "## FT_SHOTS"
   ]
  },
  {
   "cell_type": "code",
   "execution_count": 30,
   "metadata": {},
   "outputs": [],
   "source": [
    "table_name = 'ft_shots'\n",
    "\n",
    "df_ft_shots = get_most_recent_value(zone = hz_schema,\\\n",
    "                           table_name = table_name,\\\n",
    "                           str_group_fields = 'MATCH_ID, SHOT_ID')\n",
    "\n",
    "df_ft_shots.write.mode(\"overwrite\").saveAsTable(table_name)"
   ]
  },
  {
   "attachments": {},
   "cell_type": "markdown",
   "metadata": {},
   "source": [
    "## FT_MATCH"
   ]
  },
  {
   "cell_type": "code",
   "execution_count": 32,
   "metadata": {},
   "outputs": [],
   "source": [
    "table_name = 'ft_match'\n",
    "\n",
    "df_ft_match = get_most_recent_value(zone = hz_schema,\\\n",
    "                           table_name = table_name,\\\n",
    "                           str_group_fields = 'MATCH_ID')\n",
    "\n",
    "df_ft_match.write.mode(\"overwrite\").saveAsTable(table_name)"
   ]
  }
 ],
 "metadata": {
  "kernelspec": {
   "display_name": "snowflake",
   "language": "python",
   "name": "python3"
  },
  "language_info": {
   "codemirror_mode": {
    "name": "ipython",
    "version": 3
   },
   "file_extension": ".py",
   "mimetype": "text/x-python",
   "name": "python",
   "nbconvert_exporter": "python",
   "pygments_lexer": "ipython3",
   "version": "3.8.16"
  },
  "orig_nbformat": 4
 },
 "nbformat": 4,
 "nbformat_minor": 2
}
