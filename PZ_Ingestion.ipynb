{
 "cells": [
  {
   "cell_type": "code",
   "execution_count": 1,
   "metadata": {},
   "outputs": [],
   "source": [
    "import os\n",
    "import snowflake.snowpark.functions as F"
   ]
  },
  {
   "cell_type": "code",
   "execution_count": 2,
   "metadata": {},
   "outputs": [
    {
     "name": "stdout",
     "output_type": "stream",
     "text": [
      "####################################################\n",
      "Available packages:\n",
      "    from snowflake.snowpark.session import Session\n",
      "    from snowflake.snowpark import functions as F\n",
      "    from snowflake.snowpark.types import *\n",
      "    from datetime import datetime\n",
      "\n",
      "    import configparser\n",
      "    import os\n",
      "\n",
      "####################################################\n",
      "\n",
      "Available functions, for details use help(<function_name>:\n",
      "    get_snowpark_session\n",
      "    set_schema\n",
      "    read_csv_from_stage\n",
      "    create_hz_dim\n",
      "    get_field_list\n",
      "\n"
     ]
    }
   ],
   "source": [
    "path_utils = os.path.join(os.getcwd(),'Utils','utils.ipynb')\n",
    "%run $path_utils"
   ]
  },
  {
   "cell_type": "code",
   "execution_count": 3,
   "metadata": {},
   "outputs": [
    {
     "data": {
      "text/plain": [
       "[Row(status='Statement executed successfully.')]"
      ]
     },
     "execution_count": 3,
     "metadata": {},
     "output_type": "execute_result"
    }
   ],
   "source": [
    "session = get_snowpark_session()\n",
    "set_schema('PZ_CLEAR_STRATEGY')"
   ]
  },
  {
   "cell_type": "code",
   "execution_count": 12,
   "metadata": {},
   "outputs": [],
   "source": [
    "csv_schema = StructType([\n",
    "    StructField(\"id\", StringType()),\n",
    "    StructField(\"match_event_id\", StringType()),\n",
    "    StructField(\"location_x\", StringType()),\n",
    "    StructField(\"location_y\", StringType()),\n",
    "    StructField(\"remaining_min\", StringType()),\n",
    "    StructField(\"power_of_shot\", StringType()),\n",
    "    StructField(\"knockout_match\", StringType()),\n",
    "    StructField(\"game_season\", StringType()),\n",
    "    StructField(\"remaining_sec\", StringType()),\n",
    "    StructField(\"distance_of_shot\", StringType()),\n",
    "    StructField(\"is_goal\", StringType()),\n",
    "    StructField(\"area_of_shot\", StringType()),\n",
    "    StructField(\"shot_basics\", StringType()),\n",
    "    StructField(\"range_of_shot\", StringType()),\n",
    "    StructField(\"team_name\", StringType()),\n",
    "    StructField(\"date_of_game\", StringType()),\n",
    "    StructField(\"home\", StringType()),\n",
    "    StructField(\"shot_id_number\", StringType()),\n",
    "    StructField(\"lat_long\", StringType()),\n",
    "    StructField(\"type_of_shot\", StringType()),\n",
    "    StructField(\"type_of_combined_shot\", StringType()),\n",
    "    StructField(\"match_id\", StringType()),\n",
    "    StructField(\"team_id\", StringType()),\n",
    "    StructField(\"remaining_min2\", StringType()),\n",
    "    StructField(\"power_of_shot3\", StringType()),\n",
    "    StructField(\"knockout_match4\", StringType()),\n",
    "    StructField(\"remaining_sec5\", StringType()),\n",
    "    StructField(\"distance_of_shot6\", StringType())]\n",
    ")"
   ]
  },
  {
   "cell_type": "code",
   "execution_count": 22,
   "metadata": {},
   "outputs": [],
   "source": [
    "df_csv = read_csv_from_stage(stage_name='RAW_DATA_STAGE',\n",
    "                             csv_schema=csv_schema,\n",
    "                             csv_pattern='.*yds_data*[.]csv')"
   ]
  },
  {
   "cell_type": "code",
   "execution_count": 23,
   "metadata": {},
   "outputs": [],
   "source": [
    "distinct_paths = set([x.PATH for x in df_csv.select('PATH').collect()])"
   ]
  },
  {
   "cell_type": "code",
   "execution_count": 24,
   "metadata": {},
   "outputs": [
    {
     "name": "stdout",
     "output_type": "stream",
     "text": [
      "raw_data_stage/yds_data.csv\n",
      "----------------------------\n",
      "|\"number of rows deleted\"  |\n",
      "----------------------------\n",
      "|30697                     |\n",
      "----------------------------\n",
      "\n"
     ]
    }
   ],
   "source": [
    "for path in distinct_paths:\n",
    "    print(path)\n",
    "    session.sql(f\"DELETE FROM football_data WHERE path = '{path}'\").show()"
   ]
  },
  {
   "cell_type": "code",
   "execution_count": 25,
   "metadata": {},
   "outputs": [],
   "source": [
    "df_csv.write.mode(\"append\").saveAsTable('football_data')"
   ]
  },
  {
   "attachments": {},
   "cell_type": "markdown",
   "metadata": {},
   "source": [
    "## External game data"
   ]
  },
  {
   "cell_type": "code",
   "execution_count": 31,
   "metadata": {},
   "outputs": [],
   "source": [
    "csv_game_schema = StructType([\n",
    "    StructField(\"season_id\", StringType()),\n",
    "    StructField(\"team_id_home\", StringType()),\n",
    "    StructField(\"team_abbreviation_home\", StringType()),\n",
    "    StructField(\"team_name_home\", StringType()),\n",
    "    StructField(\"game_id\", StringType()),\n",
    "    StructField(\"game_date\", StringType()),\n",
    "    StructField(\"matchup_home\", StringType()),\n",
    "    StructField(\"wl_home\", StringType()),\n",
    "    StructField(\"min\", StringType()),\n",
    "    StructField(\"fgm_home\", StringType()),\n",
    "    StructField(\"fga_home\", StringType()),\n",
    "    StructField(\"fg_pct_home\", StringType()),\n",
    "    StructField(\"fg3m_home\", StringType()),\n",
    "    StructField(\"fg3a_home\", StringType()),\n",
    "    StructField(\"fg3_pct_home\", StringType()),\n",
    "    StructField(\"ftm_home\", StringType()),\n",
    "    StructField(\"fta_home\", StringType()),\n",
    "    StructField(\"ft_pct_home\", StringType()),\n",
    "    StructField(\"oreb_home\", StringType()),\n",
    "    StructField(\"dreb_home\", StringType()),\n",
    "    StructField(\"reb_home\", StringType()),\n",
    "    StructField(\"ast_home\", StringType()),\n",
    "    StructField(\"stl_home\", StringType()),\n",
    "    StructField(\"blk_home\", StringType()),\n",
    "    StructField(\"tov_home\", StringType()),\n",
    "    StructField(\"pf_home\", StringType()),\n",
    "    StructField(\"pts_home\", StringType()),\n",
    "    StructField(\"plus_minus_home\", StringType()),\n",
    "    StructField(\"video_available_home\", StringType()),\n",
    "    StructField(\"team_id_away\", StringType()),\n",
    "    StructField(\"team_abbreviation_away\", StringType()),\n",
    "    StructField(\"team_name_away\", StringType()),\n",
    "    StructField(\"matchup_away\", StringType()),\n",
    "    StructField(\"wl_away\", StringType()),\n",
    "    StructField(\"fgm_away\", StringType()),\n",
    "    StructField(\"fga_away\", StringType()),\n",
    "    StructField(\"fg_pct_away\", StringType()),\n",
    "    StructField(\"fg3m_away\", StringType()),\n",
    "    StructField(\"fg3a_away\", StringType()),\n",
    "    StructField(\"fg3_pct_away\", StringType()),\n",
    "    StructField(\"ftm_away\", StringType()),\n",
    "    StructField(\"fta_away\", StringType()),\n",
    "    StructField(\"ft_pct_away\", StringType()),\n",
    "    StructField(\"oreb_away\", StringType()),\n",
    "    StructField(\"dreb_away\", StringType()),\n",
    "    StructField(\"reb_away\", StringType()),\n",
    "    StructField(\"ast_away\", StringType()),\n",
    "    StructField(\"stl_away\", StringType()),\n",
    "    StructField(\"blk_away\", StringType()),\n",
    "    StructField(\"tov_away\", StringType()),\n",
    "    StructField(\"pf_away\", StringType()),\n",
    "    StructField(\"pts_away\", StringType()),\n",
    "    StructField(\"plus_minus_away\", StringType()),\n",
    "    StructField(\"video_available_away\", StringType())]\n",
    ")"
   ]
  },
  {
   "cell_type": "code",
   "execution_count": 33,
   "metadata": {},
   "outputs": [],
   "source": [
    "df_game = read_csv_from_stage(stage_name='RAW_DATA_STAGE',\n",
    "                             csv_schema=csv_game_schema,\n",
    "                             csv_pattern='.*game*[.]csv')\n",
    "\n",
    "df_game.write.mode(\"overwrite\").saveAsTable('nba_game_data')"
   ]
  }
 ],
 "metadata": {
  "kernelspec": {
   "display_name": "snowflake",
   "language": "python",
   "name": "python3"
  },
  "language_info": {
   "codemirror_mode": {
    "name": "ipython",
    "version": 3
   },
   "file_extension": ".py",
   "mimetype": "text/x-python",
   "name": "python",
   "nbconvert_exporter": "python",
   "pygments_lexer": "ipython3",
   "version": "3.8.16"
  },
  "orig_nbformat": 4
 },
 "nbformat": 4,
 "nbformat_minor": 2
}
