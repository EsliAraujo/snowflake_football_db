{
 "cells": [
  {
   "cell_type": "code",
   "execution_count": 1,
   "metadata": {},
   "outputs": [],
   "source": [
    "import os\n",
    "import snowflake.snowpark.functions as F"
   ]
  },
  {
   "cell_type": "code",
   "execution_count": 19,
   "metadata": {},
   "outputs": [
    {
     "name": "stdout",
     "output_type": "stream",
     "text": [
      "####################################################\n",
      "Available packages:\n",
      "    from snowflake.snowpark.session import Session\n",
      "    from snowflake.snowpark import functions as F\n",
      "    from snowflake.snowpark.types import *\n",
      "\n",
      "    import configparser\n",
      "    import os\n",
      "\n",
      "####################################################\n",
      "\n",
      "Available functions, for details use help(<function_name>:\n",
      "    get_snowpark_session\n",
      "    set_schema\n",
      "    read_csv_from_stage\n",
      "    create_hz_dim\n",
      "\n"
     ]
    }
   ],
   "source": [
    "path_utils = os.path.join(os.getcwd(),'Utils','utils.ipynb')\n",
    "%run $path_utils"
   ]
  },
  {
   "cell_type": "code",
   "execution_count": 3,
   "metadata": {},
   "outputs": [
    {
     "data": {
      "text/plain": [
       "[Row(status='Statement executed successfully.')]"
      ]
     },
     "execution_count": 3,
     "metadata": {},
     "output_type": "execute_result"
    }
   ],
   "source": [
    "session = get_snowpark_session()\n",
    "set_schema('PZ_CLEAR_STRATEGY')"
   ]
  },
  {
   "cell_type": "code",
   "execution_count": 12,
   "metadata": {},
   "outputs": [],
   "source": [
    "csv_schema = StructType([\n",
    "    StructField(\"id\", StringType()),\n",
    "    StructField(\"match_event_id\", StringType()),\n",
    "    StructField(\"location_x\", StringType()),\n",
    "    StructField(\"location_y\", StringType()),\n",
    "    StructField(\"remaining_min\", StringType()),\n",
    "    StructField(\"power_of_shot\", StringType()),\n",
    "    StructField(\"knockout_match\", StringType()),\n",
    "    StructField(\"game_season\", StringType()),\n",
    "    StructField(\"remaining_sec\", StringType()),\n",
    "    StructField(\"distance_of_shot\", StringType()),\n",
    "    StructField(\"is_goal\", StringType()),\n",
    "    StructField(\"area_of_shot\", StringType()),\n",
    "    StructField(\"shot_basics\", StringType()),\n",
    "    StructField(\"range_of_shot\", StringType()),\n",
    "    StructField(\"team_name\", StringType()),\n",
    "    StructField(\"date_of_game\", StringType()),\n",
    "    StructField(\"home\", StringType()),\n",
    "    StructField(\"shot_id_number\", StringType()),\n",
    "    StructField(\"lat_long\", StringType()),\n",
    "    StructField(\"type_of_shot\", StringType()),\n",
    "    StructField(\"type_of_combined_shot\", StringType()),\n",
    "    StructField(\"match_id\", StringType()),\n",
    "    StructField(\"team_id\", StringType()),\n",
    "    StructField(\"remaining_min2\", StringType()),\n",
    "    StructField(\"power_of_shot3\", StringType()),\n",
    "    StructField(\"knockout_match4\", StringType()),\n",
    "    StructField(\"remaining_sec5\", StringType()),\n",
    "    StructField(\"distance_of_shot6\", StringType())]\n",
    ")"
   ]
  },
  {
   "cell_type": "code",
   "execution_count": 22,
   "metadata": {},
   "outputs": [],
   "source": [
    "df_csv = read_csv_from_stage(stage_name='RAW_DATA_STAGE',\n",
    "                             csv_schema=csv_schema,\n",
    "                             csv_pattern='.*yds_data*[.]csv')"
   ]
  },
  {
   "cell_type": "code",
   "execution_count": 23,
   "metadata": {},
   "outputs": [],
   "source": [
    "distinct_paths = set([x.PATH for x in df_csv.select('PATH').collect()])"
   ]
  },
  {
   "cell_type": "code",
   "execution_count": 24,
   "metadata": {},
   "outputs": [
    {
     "name": "stdout",
     "output_type": "stream",
     "text": [
      "raw_data_stage/yds_data.csv\n",
      "----------------------------\n",
      "|\"number of rows deleted\"  |\n",
      "----------------------------\n",
      "|30697                     |\n",
      "----------------------------\n",
      "\n"
     ]
    }
   ],
   "source": [
    "for path in distinct_paths:\n",
    "    print(path)\n",
    "    session.sql(f\"DELETE FROM football_data WHERE path = '{path}'\").show()"
   ]
  },
  {
   "cell_type": "code",
   "execution_count": 25,
   "metadata": {},
   "outputs": [],
   "source": [
    "df_csv.write.mode(\"append\").saveAsTable('football_data')"
   ]
  }
 ],
 "metadata": {
  "kernelspec": {
   "display_name": "snowflake",
   "language": "python",
   "name": "python3"
  },
  "language_info": {
   "codemirror_mode": {
    "name": "ipython",
    "version": 3
   },
   "file_extension": ".py",
   "mimetype": "text/x-python",
   "name": "python",
   "nbconvert_exporter": "python",
   "pygments_lexer": "ipython3",
   "version": "3.8.16"
  },
  "orig_nbformat": 4
 },
 "nbformat": 4,
 "nbformat_minor": 2
}
