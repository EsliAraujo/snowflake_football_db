{
 "cells": [
  {
   "cell_type": "code",
   "execution_count": 1,
   "metadata": {},
   "outputs": [],
   "source": [
    "import os\n",
    "import snowflake.snowpark.functions as F"
   ]
  },
  {
   "cell_type": "code",
   "execution_count": 2,
   "metadata": {},
   "outputs": [
    {
     "name": "stdout",
     "output_type": "stream",
     "text": [
      "####################################################\n",
      "Available packages:\n",
      "    from snowflake.snowpark.session import Session\n",
      "    from snowflake.snowpark import functions as F\n",
      "    from snowflake.snowpark.types import *\n",
      "    from datetime import datetime\n",
      "\n",
      "    import configparser\n",
      "    import os\n",
      "\n",
      "####################################################\n",
      "\n",
      "Available functions, for details use help(<function_name>:\n",
      "    get_snowpark_session\n",
      "    set_schema\n",
      "    read_csv_from_stage\n",
      "    create_hz_dim\n",
      "\n"
     ]
    }
   ],
   "source": [
    "path_utils = os.path.join(os.getcwd(),'Utils','utils.ipynb')\n",
    "%run $path_utils"
   ]
  },
  {
   "cell_type": "code",
   "execution_count": 3,
   "metadata": {},
   "outputs": [
    {
     "data": {
      "text/plain": [
       "[Row(status='Statement executed successfully.')]"
      ]
     },
     "execution_count": 3,
     "metadata": {},
     "output_type": "execute_result"
    }
   ],
   "source": [
    "session = get_snowpark_session()\n",
    "set_schema('HZ_CLEAR_STRATEGY')"
   ]
  },
  {
   "attachments": {},
   "cell_type": "markdown",
   "metadata": {},
   "source": [
    "## DIM_CALENDAR"
   ]
  },
  {
   "cell_type": "code",
   "execution_count": 152,
   "metadata": {},
   "outputs": [],
   "source": [
    "query_dim_calendar = \"\"\"\n",
    "    select distinct\n",
    "        cast(d.date_of_game as date) as \"date\",\n",
    "        year(cast(d.date_of_game as date)) as year,\n",
    "        month(cast(d.date_of_game as date)) as month,\n",
    "        day(cast(d.date_of_game as date)) as day,\n",
    "        cast(to_char(cast(d.date_of_game as date),'%Y-%m') as varchar(7)) as season,\n",
    "        cast(case when month(cast(d.date_of_game as date)) <= 3 then concat(year(cast(d.date_of_game as date)),'_01')\n",
    "            when month(cast(d.date_of_game as date)) <= 6 then concat(year(cast(d.date_of_game as date)),'_02')\n",
    "            when month(cast(d.date_of_game as date)) <= 9 then concat(year(cast(d.date_of_game as date)),'_03')\n",
    "            else concat(year(cast(d.date_of_game as date)),'_04') end as varchar(7))  as year_quarter,\n",
    "        case when month(cast(d.date_of_game as date)) <= 3 then '01'\n",
    "            when month(cast(d.date_of_game as date)) <= 6 then '02'\n",
    "            when month(cast(d.date_of_game as date)) <= 9 then '03' else'04' end as quarter,\n",
    "        weekofyear(cast(d.date_of_game as date)) as week_of_year,\n",
    "        dayofweek(cast(d.date_of_game as date)) as day_of_week,\n",
    "        case when dayofweekiso(cast(d.date_of_game as date)) in (6,7) then 1 else 0 end as weekend    \n",
    "    from pz_clear_strategy.football_data d\n",
    "    where d.date_of_game is not null\n",
    "    order by cast(d.date_of_game as date)\n",
    "\"\"\"\n",
    "\n",
    "df_dim_area_of_shot = session.sql(query_dim_calendar)\n",
    "df_dim_area_of_shot.write.mode(\"overwrite\").saveAsTable('dim_calendar')\n"
   ]
  },
  {
   "attachments": {},
   "cell_type": "markdown",
   "metadata": {},
   "source": [
    "## DIM_AREA_OF_SHOT"
   ]
  },
  {
   "cell_type": "code",
   "execution_count": 165,
   "metadata": {},
   "outputs": [
    {
     "name": "stdout",
     "output_type": "stream",
     "text": [
      "Table: dim_area_of_shot will be created\n",
      "------------------------------------------------------\n",
      "|\"status\"                                            |\n",
      "------------------------------------------------------\n",
      "|SEQ_DIM_AREA_OF_SHOT already exists, statement ...  |\n",
      "------------------------------------------------------\n",
      "\n",
      "Execution finished, dim_area_of_shot created\n"
     ]
    }
   ],
   "source": [
    "table_name = 'dim_area_of_shot'\n",
    "\n",
    "query_new = f\"\"\"select distinct    \n",
    "                    upper(d.area_of_shot) as area_of_shot,\n",
    "                    d.path,\n",
    "                    d.load_at\n",
    "                from pz_clear_strategy.football_data d\n",
    "                where d.area_of_shot is not null\"\"\"\n",
    "\n",
    "query_append = f\"\"\"select distinct \n",
    "                        upper(d.area_of_shot) as area_of_shot,\n",
    "                        d.path,\n",
    "                        d.load_at\n",
    "                    from pz_clear_strategy.football_data d\n",
    "                    where not exists (select 1 from hz_clear_strategy.{table_name} aos\n",
    "                                            where aos.area_of_shot = upper(d.area_of_shot))\n",
    "                    and d.area_of_shot is not null\n",
    "                    and d.load_at >= (select max(load_at) from {table_name})\"\"\"\n",
    "\n",
    "create_hz_dim(table_name, query_new, query_append)"
   ]
  },
  {
   "attachments": {},
   "cell_type": "markdown",
   "metadata": {},
   "source": [
    "## DIM_SHOT_BASICS"
   ]
  },
  {
   "cell_type": "code",
   "execution_count": 154,
   "metadata": {},
   "outputs": [
    {
     "name": "stdout",
     "output_type": "stream",
     "text": [
      "Table: dim_shot_basics will be created\n",
      "------------------------------------------------------\n",
      "|\"status\"                                            |\n",
      "------------------------------------------------------\n",
      "|SEQ_DIM_SHOT_BASICS already exists, statement s...  |\n",
      "------------------------------------------------------\n",
      "\n",
      "Execution finished, dim_shot_basics created\n"
     ]
    }
   ],
   "source": [
    "table_name = 'dim_shot_basics'\n",
    "\n",
    "query_new = f\"\"\"select distinct    \n",
    "                    d.shot_basics,\n",
    "                    d.path,\n",
    "                    d.load_at\n",
    "                from pz_clear_strategy.football_data d\n",
    "                where d.shot_basics is not null\"\"\"\n",
    "\n",
    "query_append = f\"\"\"select distinct    \n",
    "                        UPPER(d.shot_basics) AS shot_basics,\n",
    "                        d.path,\n",
    "                        d.load_at\n",
    "                    from pz_clear_strategy.football_data d\n",
    "                    where d.shot_basics is not null\n",
    "                    and d.load_at >= (select max(load_at) from {table_name})\n",
    "                    and not exists (select 1 from hz_clear_strategy.{table_name} dsb\n",
    "                                            where dsb.shot_basics = UPPER(d.shot_basics))\"\"\"\n",
    "\n",
    "create_hz_dim(table_name, query_new, query_append)"
   ]
  },
  {
   "attachments": {},
   "cell_type": "markdown",
   "metadata": {},
   "source": [
    "## DIM_COMBINED_SHOT_TYPES"
   ]
  },
  {
   "cell_type": "code",
   "execution_count": 155,
   "metadata": {},
   "outputs": [
    {
     "name": "stdout",
     "output_type": "stream",
     "text": [
      "Table: dim_combined_shot_types will be created\n",
      "------------------------------------------------------\n",
      "|\"status\"                                            |\n",
      "------------------------------------------------------\n",
      "|SEQ_DIM_COMBINED_SHOT_TYPES already exists, sta...  |\n",
      "------------------------------------------------------\n",
      "\n",
      "Execution finished, dim_combined_shot_types created\n"
     ]
    }
   ],
   "source": [
    "table_name = 'dim_combined_shot_types'\n",
    "\n",
    "query_new = f\"\"\"select distinct\n",
    "                upper(d.type_of_combined_shot) as combined_shot_type,\n",
    "                d.path,\n",
    "                d.load_at\n",
    "            from pz_clear_strategy.football_data d\n",
    "            where d.type_of_combined_shot is not null\"\"\"\n",
    "\n",
    "query_append = f\"\"\"select distinct\n",
    "                    upper(d.type_of_combined_shot) as combined_shot_type,\n",
    "                    d.path,\n",
    "                    d.load_at\n",
    "                from pz_clear_strategy.football_data d\n",
    "                where d.type_of_combined_shot is not null\n",
    "                  and d.load_at >= (select max(load_at) from {table_name})\n",
    "                and not exists (select 1 from hz_clear_strategy.{table_name} cst\n",
    "                                        where cst.combined_shot_type = UPPER(d.type_of_combined_shot))\n",
    "\"\"\"\n",
    "create_hz_dim(table_name, query_new, query_append)"
   ]
  },
  {
   "attachments": {},
   "cell_type": "markdown",
   "metadata": {},
   "source": [
    "## DIM_TEAM"
   ]
  },
  {
   "cell_type": "code",
   "execution_count": 10,
   "metadata": {},
   "outputs": [
    {
     "name": "stdout",
     "output_type": "stream",
     "text": [
      "Table: dim_team will be created\n",
      "-----------------------------------------------------\n",
      "|\"status\"                                           |\n",
      "-----------------------------------------------------\n",
      "|SEQ_DIM_TEAM already exists, statement succeeded.  |\n",
      "-----------------------------------------------------\n",
      "\n",
      "Execution finished, dim_team created\n"
     ]
    }
   ],
   "source": [
    "table_name = 'dim_team'\n",
    "\n",
    "query_new = f\"\"\"select distinct\n",
    "                    cast(d.team_id as int) as team_id,\n",
    "                    UPPER(d.team_name) as team_name,\n",
    "                    d.path,\n",
    "                    sysdate() as load_at\n",
    "                from pz_clear_strategy.football_data d\n",
    "                where d.team_name is not null\"\"\"\n",
    "\n",
    "query_append = f\"\"\"select distinct\n",
    "                    cast(d.team_id as int) as team_id,\n",
    "                    UPPER(d.team_name) as team_name,\n",
    "                    d.path,\n",
    "                    d.load_at\n",
    "                from pz_clear_strategy.football_data d\n",
    "                where d.type_of_combined_shot is not null\n",
    "                  and d.load_at >= (select max(load_at)from {table_name})\n",
    "                and not exists (select 1 from hz_clear_strategy.{table_name} dteam\n",
    "                                        where dteam.team_name = UPPER(d.team_name))\n",
    "\"\"\"\n",
    "create_hz_dim(table_name, query_new, query_append)"
   ]
  },
  {
   "cell_type": "code",
   "execution_count": 33,
   "metadata": {},
   "outputs": [
    {
     "name": "stdout",
     "output_type": "stream",
     "text": [
      "Table: dim_team will be created\n",
      "-----------------------------------------------\n",
      "|\"status\"                                     |\n",
      "-----------------------------------------------\n",
      "|Sequence SEQ_DIM_TEAM successfully created.  |\n",
      "-----------------------------------------------\n",
      "\n",
      "Execution finished, dim_team created\n"
     ]
    }
   ],
   "source": [
    "table_name = 'dim_team'\n",
    "\n",
    "query_new = f\"\"\"select \n",
    "                nba.short_name as team_short_name,\n",
    "                UPPER(nba.team_name) as team_name,\n",
    "                d.path,\n",
    "                d.load_at\n",
    "            from pz_clear_strategy.football_data d\n",
    "\n",
    "            left join pz_clear_strategy.nba_teams nba\n",
    "                on nba.short_name = trim(substr(d.home,1,charindex(' ',d.home)))\n",
    "\n",
    "            where d.home is not null\n",
    "\n",
    "            union\n",
    "\n",
    "            select \n",
    "                nba.short_name as team_short_name,\n",
    "                UPPER(nba.team_name) as team_name,\n",
    "                d.path,\n",
    "                d.load_at\n",
    "            from pz_clear_strategy.football_data d\n",
    "\n",
    "            left join pz_clear_strategy.nba_teams nba\n",
    "                on nba.short_name = trim(substr(d.home,charindex(' ',d.home,charindex(' ',d.home)+1),len(d.home)))\n",
    "\n",
    "            where d.home is not null\"\"\"\n",
    "\n",
    "query_append = f\"\"\"select * from (\n",
    "                                select \n",
    "                                    nba.short_name as team_short_name,\n",
    "                                    UPPER(nba.team_name) as team_name,\n",
    "                                    d.path,\n",
    "                                    d.load_at\n",
    "                                from pz_clear_strategy.football_data d\n",
    "\n",
    "                                left join pz_clear_strategy.nba_teams nba\n",
    "                                    on nba.short_name = trim(substr(d.home,1,charindex(' ',d.home)))\n",
    "\n",
    "                                where d.home is not null\n",
    "\n",
    "                                union\n",
    "\n",
    "                                select \n",
    "                                    nba.short_name as team_short_name,\n",
    "                                    UPPER(nba.team_name) as team_name,\n",
    "                                    d.path,\n",
    "                                    d.load_at\n",
    "                                from pz_clear_strategy.football_data d\n",
    "\n",
    "                                left join pz_clear_strategy.nba_teams nba\n",
    "                                    on nba.short_name = trim(substr(d.home,charindex(' ',d.home,charindex(' ',d.home)+1),len(d.home)))\n",
    "\n",
    "                                where d.home is not null\n",
    "                                and d.load_at >= (select max(load_at) from {table_name})) t                               \n",
    "                    where team_name is not null\n",
    "                    and not exists (select 1 from hz_clear_strategy.{table_name} dteam\n",
    "                                                        where dteam.team_short_name = t.team_short_name)\n",
    "\"\"\"\n",
    "create_hz_dim(table_name, query_new, query_append)"
   ]
  },
  {
   "attachments": {},
   "cell_type": "markdown",
   "metadata": {},
   "source": [
    "## DIM_RANGE_OF_SHOT"
   ]
  },
  {
   "cell_type": "code",
   "execution_count": 158,
   "metadata": {},
   "outputs": [
    {
     "name": "stdout",
     "output_type": "stream",
     "text": [
      "-------------------------------------------------------------------------\n",
      "|\"ID_DIM_RANGE_OF_SHOT\"  |\"RANGE_OF_SHOT\"  |\"LOAD_AT\"                   |\n",
      "-------------------------------------------------------------------------\n",
      "|1                       |16-24 FT.        |2023-06-10 20:24:28.085000  |\n",
      "-------------------------------------------------------------------------\n",
      "\n",
      "Table: dim_range_of_shot alread exists\n",
      "Table: dim_range_of_shot will be created\n",
      "------------------------------------------------------\n",
      "|\"status\"                                            |\n",
      "------------------------------------------------------\n",
      "|SEQ_DIM_RANGE_OF_SHOT already exists, statement...  |\n",
      "------------------------------------------------------\n",
      "\n",
      "Execution finished, dim_range_of_shot created\n"
     ]
    }
   ],
   "source": [
    "table_name = 'dim_range_of_shot'\n",
    "\n",
    "query_new = f\"\"\"select distinct    \n",
    "                    upper(d.range_of_shot) as range_of_shot,\n",
    "                    d.path,\n",
    "                    d.load_at\n",
    "                from pz_clear_strategy.football_data d\n",
    "                where d.range_of_shot is not null\"\"\"\n",
    "\n",
    "query_append = f\"\"\"select distinct    \n",
    "                    upper(d.range_of_shot) as range_of_shot,\n",
    "                    d.path,\n",
    "                    d.load_at\n",
    "                from pz_clear_strategy.football_data d\n",
    "                where d.range_of_shot is not null\n",
    "                and d.load_at >= (select max(load_at) from {table_name})\n",
    "                and not exists (select 1 from hz_clear_strategy.{table_name} ros\n",
    "                                        where ros.range_of_shot = UPPER(d.range_of_shot))\n",
    "\"\"\"\n",
    "create_hz_dim(table_name, query_new, query_append)"
   ]
  },
  {
   "attachments": {},
   "cell_type": "markdown",
   "metadata": {},
   "source": [
    "## DIM_SHOT_TYPES"
   ]
  },
  {
   "cell_type": "code",
   "execution_count": 159,
   "metadata": {},
   "outputs": [
    {
     "name": "stdout",
     "output_type": "stream",
     "text": [
      "Table: dim_shot_types will be created\n",
      "------------------------------------------------------\n",
      "|\"status\"                                            |\n",
      "------------------------------------------------------\n",
      "|SEQ_DIM_SHOT_TYPES already exists, statement su...  |\n",
      "------------------------------------------------------\n",
      "\n",
      "Execution finished, dim_shot_types created\n"
     ]
    }
   ],
   "source": [
    "table_name = 'dim_shot_types'\n",
    "\n",
    "query_new = f\"\"\"select distinct\n",
    "                    upper(d.type_of_shot) as shot_type,\n",
    "                    d.path,\n",
    "                    d.load_at\n",
    "                from pz_clear_strategy.football_data d\n",
    "                where d.type_of_shot is not null\"\"\"\n",
    "\n",
    "query_append = f\"\"\"select distinct    \n",
    "                    upper(d.type_of_shot) as shot_type,\n",
    "                    d.path,\n",
    "                    d.load_at\n",
    "                from pz_clear_strategy.football_data d\n",
    "                where d.type_of_shot is not null\n",
    "                and d.load_at >= (select max(load_at) from {table_name})\n",
    "                and not exists (select 1 from hz_clear_strategy.{table_name} st\n",
    "                                        where st.type_of_shot = UPPER(d.type_of_shot))\n",
    "\"\"\"\n",
    "create_hz_dim(table_name, query_new, query_append)"
   ]
  },
  {
   "attachments": {},
   "cell_type": "markdown",
   "metadata": {},
   "source": [
    "## FT_SHOTS"
   ]
  },
  {
   "cell_type": "code",
   "execution_count": 35,
   "metadata": {},
   "outputs": [
    {
     "name": "stdout",
     "output_type": "stream",
     "text": [
      "-----------------------------------------------------\n",
      "|\"status\"                                           |\n",
      "-----------------------------------------------------\n",
      "|SEQ_FT_SHOTS already exists, statement succeeded.  |\n",
      "-----------------------------------------------------\n",
      "\n"
     ]
    }
   ],
   "source": [
    "session.sql(f'CREATE SEQUENCE IF NOT EXISTS hz_clear_strategy.seq_ft_shots START 1 INCREMENT 1;').show()\n",
    "\n",
    "query_shots = f\"\"\"\n",
    "        select \n",
    "            cast(d.match_id as int) as match_id,\n",
    "            hz_clear_strategy.seq_ft_shots.NEXTVAL as id_ft_shots,\n",
    "            cast(d.shot_id_number as int) as shot_id,        \n",
    "            st.id_dim_shot_types,\n",
    "            cst.id_dim_combined_shot_types,\n",
    "            coalesce(dt.id_dim_team, lag(id_dim_team, 1) over (partition by match_id order by shot_id),\n",
    "                                     lead(id_dim_team,1) over (partition by match_id order by shot_id)) as id_dim_team,\n",
    "            ros.id_dim_range_of_shot,   \n",
    "            b.id_dim_shot_basics,\n",
    "            aos.id_dim_area_of_shot,\n",
    "            cast(location_x as int) as location_x,\n",
    "            cast(location_y as int) as location_y,\n",
    "            cast(coalesce(d.remaining_min,d.remaining_min2) as int) as remaining_min_int,\n",
    "            cast(coalesce(d.remaining_min2,d.remaining_min) as float) as remaining_min_float,\n",
    "            cast(coalesce(d.power_of_shot,d.power_of_shot3) as int) as power_of_shot_int,\n",
    "            cast(d.power_of_shot3 as float) as power_of_shot_float,\n",
    "            cast(coalesce(d.remaining_sec,d.remaining_sec5) as int) as remaining_sec_int,\n",
    "            cast(coalesce(d.remaining_sec5,d.remaining_sec) as float) as remaining_sec_float,\n",
    "            cast(coalesce(d.distance_of_shot,d.distance_of_shot6) as int) as distance_of_shot_int,\n",
    "            cast(coalesce(d.distance_of_shot6,d.distance_of_shot) as float) as distance_of_shot_float,\n",
    "            cast(d.is_goal as int) as is_goal,\n",
    "            d.path,\n",
    "            d.load_at\n",
    "        from pz_clear_strategy.football_data d\n",
    "    \n",
    "        left join hz_clear_strategy.dim_shot_basics b\n",
    "        on b.shot_basics = d.shot_basics\n",
    "    \n",
    "        left join hz_clear_strategy.dim_team dt\n",
    "        on dt.team_name = upper(d.team_name)\n",
    "    \n",
    "        left join hz_clear_strategy.dim_area_of_shot aos\n",
    "        on aos.area_of_shot = upper(d.area_of_shot)\n",
    "    \n",
    "        left join hz_clear_strategy.dim_range_of_shot ros\n",
    "        on ros.range_of_shot = upper(d.range_of_shot)\n",
    "    \n",
    "        left join hz_clear_strategy.dim_shot_types st\n",
    "        on st.shot_type = upper(d.type_of_shot)\n",
    "    \n",
    "        left join hz_clear_strategy.dim_combined_shot_types cst\n",
    "        on cst.combined_shot_type = upper(d.type_of_combined_shot)\n",
    "        \n",
    "        where d.load_at >= (select max(load_at) from hz_clear_strategy.ft_shots)\n",
    "\n",
    "        order by cast(d.match_id as int)        \n",
    "\"\"\"\n",
    "\n",
    "df_shots = session.sql(query_shots)\n",
    "df_shots.write.mode(\"Append\").saveAsTable('ft_shots')"
   ]
  },
  {
   "attachments": {},
   "cell_type": "markdown",
   "metadata": {},
   "source": [
    "## FT_MATCH"
   ]
  },
  {
   "cell_type": "code",
   "execution_count": null,
   "metadata": {},
   "outputs": [],
   "source": [
    "query_matchs = f\"\"\"\n",
    "        \n",
    "\"\"\"\n",
    "\n",
    "df_matchs = session.sql(query_matchs)"
   ]
  }
 ],
 "metadata": {
  "kernelspec": {
   "display_name": "snowflake",
   "language": "python",
   "name": "python3"
  },
  "language_info": {
   "codemirror_mode": {
    "name": "ipython",
    "version": 3
   },
   "file_extension": ".py",
   "mimetype": "text/x-python",
   "name": "python",
   "nbconvert_exporter": "python",
   "pygments_lexer": "ipython3",
   "version": "3.8.16"
  },
  "orig_nbformat": 4
 },
 "nbformat": 4,
 "nbformat_minor": 2
}
