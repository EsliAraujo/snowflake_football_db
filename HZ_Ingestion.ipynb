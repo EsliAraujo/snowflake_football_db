{
 "cells": [
  {
   "cell_type": "code",
   "execution_count": 2,
   "metadata": {},
   "outputs": [],
   "source": [
    "import os\n",
    "import snowflake.snowpark.functions as F"
   ]
  },
  {
   "cell_type": "code",
   "execution_count": 61,
   "metadata": {},
   "outputs": [
    {
     "name": "stdout",
     "output_type": "stream",
     "text": [
      "####################################################\n",
      "Available packages:\n",
      "    from snowflake.snowpark.session import Session\n",
      "    from snowflake.snowpark import functions as F\n",
      "    from snowflake.snowpark.types import *\n",
      "\n",
      "    import configparser\n",
      "    import os\n",
      "\n",
      "####################################################\n",
      "\n",
      "Available functions, for details use help(<function_name>:\n",
      "    get_snowpark_session\n",
      "    set_schema\n",
      "    read_csv_from_stage\n",
      "    create_hz_dim\n",
      "\n"
     ]
    }
   ],
   "source": [
    "path_utils = os.path.join(os.getcwd(),'Utils','utils.ipynb')\n",
    "%run $path_utils"
   ]
  },
  {
   "cell_type": "code",
   "execution_count": 62,
   "metadata": {},
   "outputs": [
    {
     "data": {
      "text/plain": [
       "[Row(status='Statement executed successfully.')]"
      ]
     },
     "execution_count": 62,
     "metadata": {},
     "output_type": "execute_result"
    }
   ],
   "source": [
    "session = get_snowpark_session()\n",
    "set_schema('HZ_CLEAR_STRATEGY')"
   ]
  },
  {
   "attachments": {},
   "cell_type": "markdown",
   "metadata": {},
   "source": [
    "## DIM_CALENDAR"
   ]
  },
  {
   "cell_type": "code",
   "execution_count": 63,
   "metadata": {},
   "outputs": [],
   "source": [
    "query_dim_calendar = \"\"\"\n",
    "    select distinct\n",
    "        cast(d.date_of_game as date) as \"date\",\n",
    "        year(cast(d.date_of_game as date)) as year,\n",
    "        month(cast(d.date_of_game as date)) as month,\n",
    "        day(cast(d.date_of_game as date)) as day,\n",
    "        cast(to_char(cast(d.date_of_game as date),'%Y-%m') as varchar(7)) as season,\n",
    "        cast(case when month(cast(d.date_of_game as date)) <= 3 then concat(year(cast(d.date_of_game as date)),'_01')\n",
    "            when month(cast(d.date_of_game as date)) <= 6 then concat(year(cast(d.date_of_game as date)),'_02')\n",
    "            when month(cast(d.date_of_game as date)) <= 9 then concat(year(cast(d.date_of_game as date)),'_03')\n",
    "            else concat(year(cast(d.date_of_game as date)),'_04') end as varchar(7))  as year_quarter,\n",
    "        case when month(cast(d.date_of_game as date)) <= 3 then '01'\n",
    "            when month(cast(d.date_of_game as date)) <= 6 then '02'\n",
    "            when month(cast(d.date_of_game as date)) <= 9 then '03' else'04' end as quarter,\n",
    "        weekofyear(cast(d.date_of_game as date)) as week_of_year,\n",
    "        dayofweek(cast(d.date_of_game as date)) as day_of_week,\n",
    "        case when dayofweekiso(cast(d.date_of_game as date)) in (6,7) then 1 else 0 end as weekend    \n",
    "    from pz_clear_strategy.football_data d\n",
    "    where d.date_of_game is not null\n",
    "    order by cast(d.date_of_game as date)\n",
    "\"\"\"\n",
    "\n",
    "df_dim_area_of_shot = session.sql(query_dim_calendar)\n",
    "df_dim_area_of_shot.write.mode(\"overwrite\").saveAsTable('dim_calendar')\n"
   ]
  },
  {
   "attachments": {},
   "cell_type": "markdown",
   "metadata": {},
   "source": [
    "## DIM_AREA_OF_SHOT"
   ]
  },
  {
   "cell_type": "code",
   "execution_count": 65,
   "metadata": {},
   "outputs": [
    {
     "name": "stdout",
     "output_type": "stream",
     "text": [
      "Table: dim_area_of_shot will be created\n",
      "------------------------------------------------------\n",
      "|\"status\"                                            |\n",
      "------------------------------------------------------\n",
      "|SEQ_DIM_AREA_OF_SHOT already exists, statement ...  |\n",
      "------------------------------------------------------\n",
      "\n",
      "Execution finished, dim_area_of_shot created\n"
     ]
    }
   ],
   "source": [
    "table_name = 'dim_area_of_shot'\n",
    "\n",
    "query_new = \"\"\"select distinct    \n",
    "                    upper(d.area_of_shot) as area_of_shot,\n",
    "                    sysdate() as load_at\n",
    "                from pz_clear_strategy.football_data d\n",
    "                where d.area_of_shot is not null\"\"\"\n",
    "\n",
    "query_append = \"\"\"select distinct \n",
    "                        upper(d.area_of_shot) as area_of_shot,\n",
    "                        sysdate() as load_at\n",
    "                    from pz_clear_strategy.football_data d\n",
    "                    where not exists (select 1 from hz_clear_strategy.dim_area_of_shot aos\n",
    "                                            where aos.area_of_shot = upper(d.area_of_shot))\n",
    "                    and d.area_of_shot is not null\"\"\"\n",
    "\n",
    "create_hz_dim(table_name, query_new, query_append)"
   ]
  },
  {
   "attachments": {},
   "cell_type": "markdown",
   "metadata": {},
   "source": [
    "## DIM_SHOT_BASICS"
   ]
  },
  {
   "cell_type": "code",
   "execution_count": 66,
   "metadata": {},
   "outputs": [
    {
     "name": "stdout",
     "output_type": "stream",
     "text": [
      "Table: dim_shot_basics will be created\n",
      "------------------------------------------------------\n",
      "|\"status\"                                            |\n",
      "------------------------------------------------------\n",
      "|SEQ_DIM_SHOT_BASICS already exists, statement s...  |\n",
      "------------------------------------------------------\n",
      "\n",
      "Execution finished, dim_shot_basics created\n"
     ]
    }
   ],
   "source": [
    "table_name = 'dim_shot_basics'\n",
    "\n",
    "query_new = \"\"\"select distinct    \n",
    "                    d.shot_basics,\n",
    "                    sysdate() as load_at\n",
    "                from pz_clear_strategy.football_data d\n",
    "                where d.shot_basics is not null\"\"\"\n",
    "\n",
    "query_append = \"\"\"select distinct    \n",
    "                        UPPER(d.shot_basics) AS shot_basics,\n",
    "                        sysdate() as load_at\n",
    "                    from pz_clear_strategy.football_data d\n",
    "                    where d.shot_basics is not null\n",
    "                    and not exists (select 1 from hz_clear_strategy.dim_shot_basics dsb\n",
    "                                            where dsb.shot_basics = UPPER(d.shot_basics))\"\"\"\n",
    "\n",
    "create_hz_dim(table_name, query_new, query_append)"
   ]
  },
  {
   "attachments": {},
   "cell_type": "markdown",
   "metadata": {},
   "source": [
    "## DIM_COMBINED_SHOT_TYPES"
   ]
  },
  {
   "cell_type": "code",
   "execution_count": 67,
   "metadata": {},
   "outputs": [
    {
     "name": "stdout",
     "output_type": "stream",
     "text": [
      "------------------------------------------------------------------------------------\n",
      "|\"ID_DIM_COMBINED_SHOT_TYPES\"  |\"COMBINED_SHOT_TYPE\"  |\"LOAD_AT\"                   |\n",
      "------------------------------------------------------------------------------------\n",
      "|115                           |SHOT - 30             |2023-06-10 18:42:56.202000  |\n",
      "------------------------------------------------------------------------------------\n",
      "\n",
      "Table: dim_combined_shot_types alread exists\n",
      "Execution finished, dim_combined_shot_types appended\n"
     ]
    }
   ],
   "source": [
    "table_name = 'dim_combined_shot_types'\n",
    "\n",
    "query_new = \"\"\"select distinct\n",
    "                upper(d.type_of_combined_shot) as combined_shot_type,\n",
    "                sysdate() as load_at\n",
    "            from pz_clear_strategy.football_data d\n",
    "            where d.type_of_combined_shot is not null\"\"\"\n",
    "\n",
    "query_append = \"\"\"select distinct\n",
    "                    upper(d.type_of_combined_shot) as combined_shot_type,\n",
    "                    sysdate() as load_at\n",
    "                from pz_clear_strategy.football_data d\n",
    "                where d.type_of_combined_shot is not null\n",
    "                and not exists (select 1 from hz_clear_strategy.dim_combined_shot_types cst\n",
    "                                        where cst.combined_shot_type = UPPER(d.type_of_combined_shot))\n",
    "\"\"\"\n",
    "create_hz_dim(table_name, query_new, query_append)"
   ]
  },
  {
   "attachments": {},
   "cell_type": "markdown",
   "metadata": {},
   "source": [
    "## DIM_TEAM"
   ]
  },
  {
   "cell_type": "code",
   "execution_count": 77,
   "metadata": {},
   "outputs": [
    {
     "name": "stdout",
     "output_type": "stream",
     "text": [
      "Table: dim_team will be created\n",
      "-----------------------------------------------\n",
      "|\"status\"                                     |\n",
      "-----------------------------------------------\n",
      "|Sequence SEQ_DIM_TEAM successfully created.  |\n",
      "-----------------------------------------------\n",
      "\n",
      "Execution finished, dim_team created\n"
     ]
    }
   ],
   "source": [
    "table_name = 'dim_team'\n",
    "\n",
    "query_new = \"\"\"select distinct\n",
    "                    cast(d.team_id as int) as team_id,\n",
    "                    UPPER(d.team_name) as team_name,\n",
    "                    sysdate() as load_at\n",
    "                from pz_clear_strategy.football_data d\n",
    "                where d.team_name is not null\"\"\"\n",
    "\n",
    "query_append = \"\"\"select distinct\n",
    "                    cast(d.team_id as int) as team_id,\n",
    "                    UPPER(d.team_name) as team_name,\n",
    "                    sysdate() as load_at\n",
    "                from pz_clear_strategy.football_data d\n",
    "                where d.type_of_combined_shot is not null\n",
    "                and not exists (select 1 from hz_clear_strategy.dim_team dteam\n",
    "                                        where dteam.team_name = UPPER(d.team_name))\n",
    "\"\"\"\n",
    "create_hz_dim(table_name, query_new, query_append)"
   ]
  },
  {
   "cell_type": "code",
   "execution_count": 78,
   "metadata": {},
   "outputs": [
    {
     "name": "stdout",
     "output_type": "stream",
     "text": [
      "-------------------------------------------------------------------------------\n",
      "|\"ID_DIM_TEAM\"  |\"TEAM_ID\"   |\"TEAM_NAME\"        |\"LOAD_AT\"                   |\n",
      "-------------------------------------------------------------------------------\n",
      "|1              |1610612747  |MANCHESTER UNITED  |2023-06-10 20:21:32.318000  |\n",
      "-------------------------------------------------------------------------------\n",
      "\n",
      "Table: dim_team alread exists\n",
      "Execution finished, dim_team appended\n"
     ]
    }
   ],
   "source": [
    "table_name = 'dim_team'\n",
    "\n",
    "query_new = \"\"\"select distinct\n",
    "                    cast(d.team_id as int) as team_id,\n",
    "                    UPPER(d.team_name) as team_name,\n",
    "                    sysdate() as load_at\n",
    "                from pz_clear_strategy.football_data d\n",
    "                where d.team_name is not null\"\"\"\n",
    "\n",
    "query_append = \"\"\"select distinct\n",
    "                    null as team_id,\n",
    "                    upper(trim(regexp_replace(\"home/away\",'^([^ ]+ [^ ]+)',''))) as team_name,\n",
    "                    sysdate() as load_at\n",
    "                from pz_clear_strategy.football_data d\n",
    "                where \"home/away\" is not null\n",
    "                and not exists (select 1 from hz_clear_strategy.dim_team dteam\n",
    "                                        where dteam.team_name = upper(trim(regexp_replace(\"home/away\",'^([^ ]+ [^ ]+)',''))))\n",
    "\"\"\"\n",
    "create_hz_dim(table_name, query_new, query_append)"
   ]
  },
  {
   "attachments": {},
   "cell_type": "markdown",
   "metadata": {},
   "source": [
    "## DIM_RANGE_OF_SHOT"
   ]
  },
  {
   "cell_type": "code",
   "execution_count": 79,
   "metadata": {},
   "outputs": [
    {
     "name": "stdout",
     "output_type": "stream",
     "text": [
      "--------------------------------------------------------\n",
      "|\"ID_DIM_RANGE_OF_SHOT\"  |\"RANGE_OF_SHOT\"  |\"LOAD_AT\"  |\n",
      "--------------------------------------------------------\n",
      "|                        |                 |           |\n",
      "--------------------------------------------------------\n",
      "\n",
      "Table: dim_range_of_shot alread exists\n",
      "Table: dim_range_of_shot will be created\n",
      "------------------------------------------------------\n",
      "|\"status\"                                            |\n",
      "------------------------------------------------------\n",
      "|Sequence SEQ_DIM_RANGE_OF_SHOT successfully cre...  |\n",
      "------------------------------------------------------\n",
      "\n",
      "Execution finished, dim_range_of_shot created\n"
     ]
    }
   ],
   "source": [
    "table_name = 'dim_range_of_shot'\n",
    "\n",
    "query_new = \"\"\"select distinct    \n",
    "                    upper(d.range_of_shot) as range_of_shot,\n",
    "                    sysdate() as load_at\n",
    "                from pz_clear_strategy.football_data d\n",
    "                where d.range_of_shot is not null\"\"\"\n",
    "\n",
    "query_append = \"\"\"select distinct    \n",
    "                    upper(d.range_of_shot) as range_of_shot,\n",
    "                    sysdate() as load_at\n",
    "                from pz_clear_strategy.football_data d\n",
    "                where d.range_of_shot is not null\n",
    "                and not exists (select 1 from hz_clear_strategy.dim_range_of_shot ros\n",
    "                                        where ros.range_of_shot = UPPER(d.range_of_shot))\n",
    "\"\"\"\n",
    "create_hz_dim(table_name, query_new, query_append)"
   ]
  },
  {
   "attachments": {},
   "cell_type": "markdown",
   "metadata": {},
   "source": [
    "## DIM_SHOT_TYPES"
   ]
  },
  {
   "cell_type": "code",
   "execution_count": 81,
   "metadata": {},
   "outputs": [
    {
     "name": "stdout",
     "output_type": "stream",
     "text": [
      "Table: dim_shot_types will be created\n",
      "-----------------------------------------------------\n",
      "|\"status\"                                           |\n",
      "-----------------------------------------------------\n",
      "|Sequence SEQ_DIM_SHOT_TYPES successfully created.  |\n",
      "-----------------------------------------------------\n",
      "\n",
      "Execution finished, dim_shot_types created\n"
     ]
    }
   ],
   "source": [
    "table_name = 'dim_shot_types'\n",
    "\n",
    "query_new = \"\"\"select distinct\n",
    "                    upper(d.type_of_shot) as shot_type,\n",
    "                    sysdate() as load_at\n",
    "                from pz_clear_strategy.football_data d\n",
    "                where d.type_of_shot is not null\"\"\"\n",
    "\n",
    "query_append = \"\"\"select distinct    \n",
    "                    upper(d.type_of_shot) as shot_type,\n",
    "                    sysdate() as load_at\n",
    "                from pz_clear_strategy.football_data d\n",
    "                where d.type_of_shot is not null\n",
    "                and not exists (select 1 from hz_clear_strategy.dim_shot_types st\n",
    "                                        where st.type_of_shot = UPPER(d.type_of_shot))\n",
    "\"\"\"\n",
    "create_hz_dim(table_name, query_new, query_append)"
   ]
  }
 ],
 "metadata": {
  "kernelspec": {
   "display_name": "snowflake",
   "language": "python",
   "name": "python3"
  },
  "language_info": {
   "codemirror_mode": {
    "name": "ipython",
    "version": 3
   },
   "file_extension": ".py",
   "mimetype": "text/x-python",
   "name": "python",
   "nbconvert_exporter": "python",
   "pygments_lexer": "ipython3",
   "version": "3.8.16"
  },
  "orig_nbformat": 4
 },
 "nbformat": 4,
 "nbformat_minor": 2
}
