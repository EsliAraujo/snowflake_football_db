{
 "cells": [
  {
   "cell_type": "code",
   "execution_count": 9,
   "metadata": {},
   "outputs": [
    {
     "ename": "ModuleNotFoundError",
     "evalue": "No module named 'snowflake.snowpark.types.StructType'; 'snowflake.snowpark.types' is not a package",
     "output_type": "error",
     "traceback": [
      "\u001b[1;31m---------------------------------------------------------------------------\u001b[0m",
      "\u001b[1;31mModuleNotFoundError\u001b[0m                       Traceback (most recent call last)",
      "Cell \u001b[1;32mIn[9], line 4\u001b[0m\n\u001b[0;32m      2\u001b[0m \u001b[39mfrom\u001b[39;00m \u001b[39msnowflake\u001b[39;00m\u001b[39m.\u001b[39;00m\u001b[39msnowpark\u001b[39;00m \u001b[39mimport\u001b[39;00m functions \u001b[39mas\u001b[39;00m F\n\u001b[0;32m      3\u001b[0m \u001b[39mfrom\u001b[39;00m \u001b[39msnowflake\u001b[39;00m\u001b[39m.\u001b[39;00m\u001b[39msnowpark\u001b[39;00m\u001b[39m.\u001b[39;00m\u001b[39mtypes\u001b[39;00m \u001b[39mimport\u001b[39;00m \u001b[39m*\u001b[39m\n\u001b[1;32m----> 4\u001b[0m \u001b[39mimport\u001b[39;00m \u001b[39msnowflake\u001b[39;00m\u001b[39m.\u001b[39;00m\u001b[39msnowpark\u001b[39;00m\u001b[39m.\u001b[39;00m\u001b[39mtypes\u001b[39;00m\u001b[39m.\u001b[39;00m\u001b[39mStructType\u001b[39;00m \u001b[39mas\u001b[39;00m \u001b[39mStructType\u001b[39;00m\n\u001b[0;32m      6\u001b[0m \u001b[39mimport\u001b[39;00m \u001b[39mconfigparser\u001b[39;00m\n\u001b[0;32m      7\u001b[0m \u001b[39mimport\u001b[39;00m \u001b[39mos\u001b[39;00m\n",
      "\u001b[1;31mModuleNotFoundError\u001b[0m: No module named 'snowflake.snowpark.types.StructType'; 'snowflake.snowpark.types' is not a package"
     ]
    }
   ],
   "source": [
    "from snowflake.snowpark.session import Session\n",
    "from snowflake.snowpark import functions as F\n",
    "from snowflake.snowpark.types import *\n",
    "\n",
    "import configparser\n",
    "import os"
   ]
  },
  {
   "cell_type": "code",
   "execution_count": 2,
   "metadata": {},
   "outputs": [],
   "source": [
    "def get_snowpark_session():\n",
    "    \"\"\"\"Returns an snowpark session object\"\"\"\n",
    "\n",
    "    ##Get configs\n",
    "    config = configparser.ConfigParser()\n",
    "    conf_path = os.path.join('C:\\\\Users\\\\Esli\\\\.snowsql','config')\n",
    "    config.read(conf_path)\n",
    "\n",
    "    #Snowflake config\n",
    "    sfAccount = config['connections.dev']['accountname']\n",
    "    sfUser = config['connections.dev']['username']\n",
    "    sfPass = config['connections.dev']['password']\n",
    "    SfRole = config['connections.dev']['rolename']\n",
    "    sfWarehouse = config['connections.dev']['warehousename']\n",
    "    sfDatabase = config['connections.dev']['dbname']\n",
    "    CONNECTION_PARAMETERS = {\n",
    "        \"account\": sfAccount,\n",
    "        \"user\": sfUser,\n",
    "        \"password\": sfPass,\n",
    "        \"database\": sfDatabase,\n",
    "        \"warehouse\": sfWarehouse,\n",
    "        \"role\": SfRole\n",
    "    }\n",
    "\n",
    "    return Session.builder.configs(CONNECTION_PARAMETERS).create()\n"
   ]
  },
  {
   "cell_type": "code",
   "execution_count": 7,
   "metadata": {},
   "outputs": [],
   "source": [
    "def set_schema(schema_name: str):\n",
    "    \"\"\"Set working schema on Snowflake\"\"\"\n",
    "    return session.sql(f'USE SCHEMA {schema_name}').collect()"
   ]
  },
  {
   "cell_type": "code",
   "execution_count": 12,
   "metadata": {},
   "outputs": [],
   "source": [
    "def read_csv_from_stage(stage_name: str, csv_schema: StructType, csv_pattern: str=None):\n",
    "    \"\"\"\n",
    "    Read the CSV's from given stage and returns as DF, if csv_pattern is not given will read all CSV's from stage.\n",
    "\n",
    "    Params:\n",
    "    stage_name (string): The name of the Stage where the files are on snowflake\n",
    "    csv_schema (StructType): The schema of the file that will be read\n",
    "    csv_pattern (String) [optional]: The regex expression that will match the files on Stage\n",
    "\n",
    "    code snippet:\n",
    "    df = read_csv_from_stage(stage_name = 'RAW_DATA_STAGE', csv_schema=csv_schema, csv_pattern='.*yds_data*[.]csv')    \n",
    "    \"\"\"    \n",
    "\n",
    "    if csv_pattern is not None:\n",
    "        stage_files = session.sql(f\"LIST @{stage_name} PATTERN='{csv_pattern}'\")\n",
    "    else:\n",
    "        stage_files = session.sql(f\"LIST @{stage_name}\")\n",
    "\n",
    "    for row in stage_files.collect():\n",
    "        csv_path = '@'+row[\"name\"]\n",
    "        df_csv = session.read.schema(csv_schema).option(\"skip_header\", 1).csv(csv_path)     \n",
    "        df_csv = df_csv.withColumn('path', F.lit(row[\"name\"]))\n",
    "        df_csv = df_csv.unionByName(df_csv)\n",
    "\n",
    "    return df_csv"
   ]
  },
  {
   "cell_type": "code",
   "execution_count": 2,
   "metadata": {},
   "outputs": [
    {
     "name": "stdout",
     "output_type": "stream",
     "text": [
      "####################################################\n",
      "Available packages:\n",
      "from snowflake.snowpark.session import Session\n",
      "from snowflake.snowpark import functions as F\n",
      "from snowflake.snowpark.types import *\n",
      "from snowflake.snowpark.functions import udtf\n",
      "\n",
      "import configparser\n",
      "import os\n",
      "\n",
      "####################################################\n",
      "\n",
      "Available functions:\n",
      "get_snowpark_session\n",
      "\n"
     ]
    }
   ],
   "source": [
    "print('''####################################################\n",
    "Available packages:\n",
    "    from snowflake.snowpark.session import Session\n",
    "    from snowflake.snowpark import functions as F\n",
    "    from snowflake.snowpark.types import *\n",
    "\n",
    "    import configparser\n",
    "    import os\n",
    "\n",
    "####################################################\n",
    "\n",
    "Available functions, for details use help(<function_name>:\n",
    "    get_snowpark_session\n",
    "    set_schema\n",
    "    read_csv_from_stage\n",
    "''')"
   ]
  },
  {
   "cell_type": "code",
   "execution_count": null,
   "metadata": {},
   "outputs": [],
   "source": []
  }
 ],
 "metadata": {
  "kernelspec": {
   "display_name": "snowflake",
   "language": "python",
   "name": "python3"
  },
  "language_info": {
   "codemirror_mode": {
    "name": "ipython",
    "version": 3
   },
   "file_extension": ".py",
   "mimetype": "text/x-python",
   "name": "python",
   "nbconvert_exporter": "python",
   "pygments_lexer": "ipython3",
   "version": "3.8.16"
  },
  "orig_nbformat": 4
 },
 "nbformat": 4,
 "nbformat_minor": 2
}
