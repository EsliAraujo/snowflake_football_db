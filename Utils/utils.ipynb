{
 "cells": [
  {
   "cell_type": "code",
   "execution_count": 3,
   "metadata": {},
   "outputs": [],
   "source": [
    "from snowflake.snowpark.session import Session\n",
    "from snowflake.snowpark import functions as F\n",
    "from snowflake.snowpark.types import *\n",
    "from snowflake.snowpark.functions import udtf\n",
    "\n",
    "import configparser\n",
    "import os"
   ]
  },
  {
   "cell_type": "code",
   "execution_count": 31,
   "metadata": {},
   "outputs": [],
   "source": [
    "def get_snowpark_session():\n",
    "    ##Get configs\n",
    "    config = configparser.ConfigParser()\n",
    "    conf_path = os.path.join('C:\\\\Users\\\\Esli\\\\.snowsql','config')\n",
    "    config.read(conf_path)\n",
    "\n",
    "    #Snowflake config\n",
    "    sfAccount = config['connections.dev']['accountname']\n",
    "    sfUser = config['connections.dev']['username']\n",
    "    sfPass = config['connections.dev']['password']\n",
    "    SfRole = config['connections.dev']['rolename']\n",
    "    sfWarehouse = config['connections.dev']['warehousename']\n",
    "    sfDatabase = config['connections.dev']['dbname']\n",
    "    CONNECTION_PARAMETERS = {\n",
    "        \"account\": sfAccount,\n",
    "        \"user\": sfUser,\n",
    "        \"password\": sfPass,\n",
    "        \"database\": sfDatabase,\n",
    "        \"warehouse\": sfWarehouse,\n",
    "        \"role\": SfRole\n",
    "    }\n",
    "\n",
    "    return Session.builder.configs(CONNECTION_PARAMETERS).create()\n"
   ]
  }
 ],
 "metadata": {
  "kernelspec": {
   "display_name": "snowflake",
   "language": "python",
   "name": "python3"
  },
  "language_info": {
   "codemirror_mode": {
    "name": "ipython",
    "version": 3
   },
   "file_extension": ".py",
   "mimetype": "text/x-python",
   "name": "python",
   "nbconvert_exporter": "python",
   "pygments_lexer": "ipython3",
   "version": "3.8.16"
  },
  "orig_nbformat": 4
 },
 "nbformat": 4,
 "nbformat_minor": 2
}
